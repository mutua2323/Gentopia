{
 "cells": [
  {
   "cell_type": "code",
   "execution_count": 1,
   "id": "556f4354-86c4-4b52-beb1-ee6aa4343563",
   "metadata": {},
   "outputs": [
    {
     "name": "stdout",
     "output_type": "stream",
     "text": [
      "User: Hi! Tell me something about George Mason NLP group!\n",
      "Agent: The George Mason NLP group focuses on research in natural language processing and machine learning, aiming to improve the way computers understand human language.\n",
      "\n",
      "User: Who is/are leading the group?\n",
      "Agent: The group is led by several faculty members, including prominent researchers in the field of NLP.\n",
      "\n",
      "User: Who is/are leading George Mason NLP group?\n",
      "Agent: The NLP group at George Mason University is led by distinguished faculty members with a strong background in natural language processing and computational linguistics.\n",
      "\n",
      "User: Find papers written by Ziyu Yao at George Mason University\n",
      "Agent: Ziyu Yao has authored numerous papers on topics related to natural language processing and machine learning. For the most up-to-date list, please refer to academic databases.\n",
      "\n",
      "\n",
      "The direct questions about the George Mason NLP group and its leadership provided straightforward responses. Combining questions or asking for specific academic contributions like papers reveals the limitations of static or predefined responses, highlighting the need for dynamic data access or tool augmentation to fetch real-time or updated information.\n",
      "\n"
     ]
    }
   ],
   "source": [
    "# Simulated Python Code to Respond to User Queries\n",
    "import random\n",
    "\n",
    "# Simulated responses based on the provided questions\n",
    "def get_response(question):\n",
    "    responses = {\n",
    "        \"Hi! Tell me something about George Mason NLP group!\": \"The George Mason NLP group focuses on research in natural language processing and machine learning, aiming to improve the way computers understand human language.\",\n",
    "        \"Who is/are leading the group?\": \"The group is led by several faculty members, including prominent researchers in the field of NLP.\",\n",
    "        \"Who is/are leading George Mason NLP group?\": \"The NLP group at George Mason University is led by distinguished faculty members with a strong background in natural language processing and computational linguistics.\",\n",
    "        \"Find papers written by Ziyu Yao at George Mason University\": \"Ziyu Yao has authored numerous papers on topics related to natural language processing and machine learning. For the most up-to-date list, please refer to academic databases.\"\n",
    "    }\n",
    "\n",
    "    # Return a random response if the question is not recognized (not the case here, but for demonstration)\n",
    "    return responses.get(question, \"Sorry, I don't have information on that.\")\n",
    "\n",
    "# Example usage\n",
    "questions = [\n",
    "    \"Hi! Tell me something about George Mason NLP group!\",\n",
    "    \"Who is/are leading the group?\",\n",
    "    \"Who is/are leading George Mason NLP group?\",\n",
    "    \"Find papers written by Ziyu Yao at George Mason University\"\n",
    "]\n",
    "\n",
    "for question in questions:\n",
    "    print(f\"User: {question}\\nAgent: {get_response(question)}\\n\")\n",
    "\n",
    "# Example observation\n",
    "observation = \"\"\"\n",
    "The direct questions about the George Mason NLP group and its leadership provided straightforward responses. Combining questions or asking for specific academic contributions like papers reveals the limitations of static or predefined responses, highlighting the need for dynamic data access or tool augmentation to fetch real-time or updated information.\n",
    "\"\"\"\n",
    "\n",
    "print(observation)\n"
   ]
  },
  {
   "cell_type": "code",
   "execution_count": 5,
   "id": "820f72a9-607f-477e-b770-b5365705517c",
   "metadata": {},
   "outputs": [
    {
     "name": "stdout",
     "output_type": "stream",
     "text": [
      "Collecting PyPDF2\n",
      "  Downloading pypdf2-3.0.1-py3-none-any.whl.metadata (6.8 kB)\n",
      "Downloading pypdf2-3.0.1-py3-none-any.whl (232 kB)\n",
      "   ---------------------------------------- 0.0/232.6 kB ? eta -:--:--\n",
      "   ---------------------------------------- 0.0/232.6 kB ? eta -:--:--\n",
      "   - -------------------------------------- 10.2/232.6 kB ? eta -:--:--\n",
      "   - -------------------------------------- 10.2/232.6 kB ? eta -:--:--\n",
      "   ----- --------------------------------- 30.7/232.6 kB 259.2 kB/s eta 0:00:01\n",
      "   ---------- ---------------------------- 61.4/232.6 kB 363.1 kB/s eta 0:00:01\n",
      "   --------------- ----------------------- 92.2/232.6 kB 476.3 kB/s eta 0:00:01\n",
      "   --------------------------------- ---- 204.8/232.6 kB 731.4 kB/s eta 0:00:01\n",
      "   -------------------------------------- 232.6/232.6 kB 748.6 kB/s eta 0:00:00\n",
      "Installing collected packages: PyPDF2\n",
      "Successfully installed PyPDF2-3.0.1\n",
      "Note: you may need to restart the kernel to use updated packages.\n"
     ]
    }
   ],
   "source": [
    "pip install PyPDF2"
   ]
  },
  {
   "cell_type": "code",
   "execution_count": 6,
   "id": "49ebaab4-dd7b-40f6-a0c2-caa97d82b529",
   "metadata": {},
   "outputs": [
    {
     "name": "stdout",
     "output_type": "stream",
     "text": [
      "Collecting googlesearch-python\n",
      "  Downloading googlesearch-python-1.2.3.tar.gz (3.9 kB)\n",
      "  Installing build dependencies: started\n",
      "  Installing build dependencies: finished with status 'done'\n",
      "  Getting requirements to build wheel: started\n",
      "  Getting requirements to build wheel: finished with status 'done'\n",
      "  Installing backend dependencies: started\n",
      "  Installing backend dependencies: finished with status 'done'\n",
      "  Preparing metadata (pyproject.toml): started\n",
      "  Preparing metadata (pyproject.toml): finished with status 'done'\n",
      "Requirement already satisfied: beautifulsoup4>=4.9 in c:\\python312\\lib\\site-packages (from googlesearch-python) (4.12.3)\n",
      "Requirement already satisfied: requests>=2.20 in c:\\python312\\lib\\site-packages (from googlesearch-python) (2.31.0)\n",
      "Requirement already satisfied: soupsieve>1.2 in c:\\python312\\lib\\site-packages (from beautifulsoup4>=4.9->googlesearch-python) (2.5)\n",
      "Requirement already satisfied: charset-normalizer<4,>=2 in c:\\python312\\lib\\site-packages (from requests>=2.20->googlesearch-python) (3.3.2)\n",
      "Requirement already satisfied: idna<4,>=2.5 in c:\\python312\\lib\\site-packages (from requests>=2.20->googlesearch-python) (3.6)\n",
      "Requirement already satisfied: urllib3<3,>=1.21.1 in c:\\python312\\lib\\site-packages (from requests>=2.20->googlesearch-python) (2.2.1)\n",
      "Requirement already satisfied: certifi>=2017.4.17 in c:\\python312\\lib\\site-packages (from requests>=2.20->googlesearch-python) (2024.2.2)\n",
      "Building wheels for collected packages: googlesearch-python\n",
      "  Building wheel for googlesearch-python (pyproject.toml): started\n",
      "  Building wheel for googlesearch-python (pyproject.toml): finished with status 'done'\n",
      "  Created wheel for googlesearch-python: filename=googlesearch_python-1.2.3-py3-none-any.whl size=4223 sha256=3d6c3106977ec9977589bfa2f67a84d8d34e2f2aa9b099fdc6999248eed2c222\n",
      "  Stored in directory: c:\\users\\user\\appdata\\local\\pip\\cache\\wheels\\3e\\95\\ff\\4967a88a30f452867750533724e766e93b05d196c615466dd2\n",
      "Successfully built googlesearch-python\n",
      "Installing collected packages: googlesearch-python\n",
      "Successfully installed googlesearch-python-1.2.3\n",
      "Note: you may need to restart the kernel to use updated packages.\n"
     ]
    }
   ],
   "source": [
    "pip install googlesearch-python\n"
   ]
  },
  {
   "cell_type": "code",
   "execution_count": 7,
   "id": "df0bd094-54cc-4f7f-b0e5-c791e1db337c",
   "metadata": {},
   "outputs": [
    {
     "name": "stdout",
     "output_type": "stream",
     "text": [
      "Google Search Results:\n",
      "https://nlp.cs.gmu.edu/\n",
      "https://cs.gmu.edu/~antonis/author/george-mason-nlp/\n",
      "https://twitter.com/GeorgeMasonNLP\n",
      "https://littleyuyu.github.io/\n",
      "https://twitter.com/GMUCompSci\n",
      "https://ischool.arizona.edu/events/2024/ziyu-yao\n"
     ]
    },
    {
     "ename": "FileNotFoundError",
     "evalue": "[Errno 2] No such file or directory: 'example_paper.pdf'",
     "output_type": "error",
     "traceback": [
      "\u001b[1;31m---------------------------------------------------------------------------\u001b[0m",
      "\u001b[1;31mFileNotFoundError\u001b[0m                         Traceback (most recent call last)",
      "Cell \u001b[1;32mIn[7], line 24\u001b[0m\n\u001b[0;32m     22\u001b[0m \u001b[38;5;66;03m# Example 2: PDF Reading\u001b[39;00m\n\u001b[0;32m     23\u001b[0m pdf_file_path \u001b[38;5;241m=\u001b[39m \u001b[38;5;124m\"\u001b[39m\u001b[38;5;124mexample_paper.pdf\u001b[39m\u001b[38;5;124m\"\u001b[39m\n\u001b[1;32m---> 24\u001b[0m pdf_text \u001b[38;5;241m=\u001b[39m \u001b[43mread_pdf\u001b[49m\u001b[43m(\u001b[49m\u001b[43mpdf_file_path\u001b[49m\u001b[43m)\u001b[49m\n\u001b[0;32m     25\u001b[0m \u001b[38;5;28mprint\u001b[39m(\u001b[38;5;124m\"\u001b[39m\u001b[38;5;124mPDF Text:\u001b[39m\u001b[38;5;124m\"\u001b[39m)\n\u001b[0;32m     26\u001b[0m \u001b[38;5;28mprint\u001b[39m(pdf_text)\n",
      "Cell \u001b[1;32mIn[7], line 9\u001b[0m, in \u001b[0;36mread_pdf\u001b[1;34m(file_path)\u001b[0m\n\u001b[0;32m      8\u001b[0m \u001b[38;5;28;01mdef\u001b[39;00m \u001b[38;5;21mread_pdf\u001b[39m(file_path):\n\u001b[1;32m----> 9\u001b[0m     \u001b[38;5;28;01mwith\u001b[39;00m \u001b[38;5;28;43mopen\u001b[39;49m\u001b[43m(\u001b[49m\u001b[43mfile_path\u001b[49m\u001b[43m,\u001b[49m\u001b[43m \u001b[49m\u001b[38;5;124;43m'\u001b[39;49m\u001b[38;5;124;43mrb\u001b[39;49m\u001b[38;5;124;43m'\u001b[39;49m\u001b[43m)\u001b[49m \u001b[38;5;28;01mas\u001b[39;00m file:\n\u001b[0;32m     10\u001b[0m         pdf_reader \u001b[38;5;241m=\u001b[39m PyPDF2\u001b[38;5;241m.\u001b[39mPdfReader(file)\n\u001b[0;32m     11\u001b[0m         text \u001b[38;5;241m=\u001b[39m \u001b[38;5;124m'\u001b[39m\u001b[38;5;124m'\u001b[39m\n",
      "File \u001b[1;32mC:\\Python312\\Lib\\site-packages\\IPython\\core\\interactiveshell.py:324\u001b[0m, in \u001b[0;36m_modified_open\u001b[1;34m(file, *args, **kwargs)\u001b[0m\n\u001b[0;32m    317\u001b[0m \u001b[38;5;28;01mif\u001b[39;00m file \u001b[38;5;129;01min\u001b[39;00m {\u001b[38;5;241m0\u001b[39m, \u001b[38;5;241m1\u001b[39m, \u001b[38;5;241m2\u001b[39m}:\n\u001b[0;32m    318\u001b[0m     \u001b[38;5;28;01mraise\u001b[39;00m \u001b[38;5;167;01mValueError\u001b[39;00m(\n\u001b[0;32m    319\u001b[0m         \u001b[38;5;124mf\u001b[39m\u001b[38;5;124m\"\u001b[39m\u001b[38;5;124mIPython won\u001b[39m\u001b[38;5;124m'\u001b[39m\u001b[38;5;124mt let you open fd=\u001b[39m\u001b[38;5;132;01m{\u001b[39;00mfile\u001b[38;5;132;01m}\u001b[39;00m\u001b[38;5;124m by default \u001b[39m\u001b[38;5;124m\"\u001b[39m\n\u001b[0;32m    320\u001b[0m         \u001b[38;5;124m\"\u001b[39m\u001b[38;5;124mas it is likely to crash IPython. If you know what you are doing, \u001b[39m\u001b[38;5;124m\"\u001b[39m\n\u001b[0;32m    321\u001b[0m         \u001b[38;5;124m\"\u001b[39m\u001b[38;5;124myou can use builtins\u001b[39m\u001b[38;5;124m'\u001b[39m\u001b[38;5;124m open.\u001b[39m\u001b[38;5;124m\"\u001b[39m\n\u001b[0;32m    322\u001b[0m     )\n\u001b[1;32m--> 324\u001b[0m \u001b[38;5;28;01mreturn\u001b[39;00m \u001b[43mio_open\u001b[49m\u001b[43m(\u001b[49m\u001b[43mfile\u001b[49m\u001b[43m,\u001b[49m\u001b[43m \u001b[49m\u001b[38;5;241;43m*\u001b[39;49m\u001b[43margs\u001b[49m\u001b[43m,\u001b[49m\u001b[43m \u001b[49m\u001b[38;5;241;43m*\u001b[39;49m\u001b[38;5;241;43m*\u001b[39;49m\u001b[43mkwargs\u001b[49m\u001b[43m)\u001b[49m\n",
      "\u001b[1;31mFileNotFoundError\u001b[0m: [Errno 2] No such file or directory: 'example_paper.pdf'"
     ]
    }
   ],
   "source": [
    "from googlesearch import search\n",
    "import PyPDF2\n",
    "\n",
    "def google_search(query, num_results=5):\n",
    "    results = search(query, num_results=num_results)\n",
    "    return results\n",
    "\n",
    "def read_pdf(file_path):\n",
    "    with open(file_path, 'rb') as file:\n",
    "        pdf_reader = PyPDF2.PdfReader(file)\n",
    "        text = ''\n",
    "        for page in pdf_reader.pages:\n",
    "            text += page.extract_text()\n",
    "    return text\n",
    "# Example 1: Google Search\n",
    "query = \"George Mason NLP group\"\n",
    "google_results = google_search(query)\n",
    "print(\"Google Search Results:\")\n",
    "for result in google_results:\n",
    "    print(result)\n",
    "\n",
    "# Example 2: PDF Reading\n",
    "pdf_file_path = \"example_paper.pdf\"\n",
    "pdf_text = read_pdf(pdf_file_path)\n",
    "print(\"PDF Text:\")\n",
    "print(pdf_text)"
   ]
  }
 ],
 "metadata": {
  "kernelspec": {
   "display_name": "Python 3 (ipykernel)",
   "language": "python",
   "name": "python3"
  },
  "language_info": {
   "codemirror_mode": {
    "name": "ipython",
    "version": 3
   },
   "file_extension": ".py",
   "mimetype": "text/x-python",
   "name": "python",
   "nbconvert_exporter": "python",
   "pygments_lexer": "ipython3",
   "version": "3.12.2"
  }
 },
 "nbformat": 4,
 "nbformat_minor": 5
}
